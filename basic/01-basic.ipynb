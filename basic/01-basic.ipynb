{
 "cells": [
  {
   "cell_type": "markdown",
   "metadata": {},
   "source": [
    "# Jupyter Notebookとは？\n",
    "実行可能ドキュメント\n",
    "Shift + Enter で下記Cellを実行してみて下さい"
   ]
  },
  {
   "cell_type": "markdown",
   "metadata": {},
   "source": [
    "# 例えばMarkdown"
   ]
  },
  {
   "cell_type": "code",
   "execution_count": null,
   "metadata": {
    "collapsed": true
   },
   "outputs": [],
   "source": [
    "# 　例えばPython\n",
    "print('Hello world')"
   ]
  },
  {
   "cell_type": "code",
   "execution_count": null,
   "metadata": {
    "collapsed": true
   },
   "outputs": [],
   "source": [
    "# 例えばShell\n",
    "!echo 'Hello World'"
   ]
  },
  {
   "cell_type": "markdown",
   "metadata": {},
   "source": [
    "JupyterNotebookでは実行環境をカーネルと呼びます。例えばこのNotebookのカーネルはPython3です。\n",
    "\n",
    "JupyterNotebookは\n",
    "「自分でソフトウェアの挙動を確認したい時。いわゆる、ためしうち」\n",
    "「教育目的で教材を作成する事」\n",
    "に利用出来ると思います。\n",
    "\n",
    "それでは簡単な教材を作ったので皆さんでやってみましょう！\n",
    "\n",
    "- NodeJSカーネルによるES6のおさらい http://localhost:10003\n",
    "- MongoカーネルによるMongoDBと戯れる http://localhost:10002\n",
    "- BASHカーネルによるElasticsearchと戯れる http://localhost:10001"
   ]
  },
  {
   "cell_type": "markdown",
   "metadata": {},
   "source": [
    "# 最後に\n",
    "今回はすぐに試せる様に、JupyterNotebookの環境をDockerで準備しましたが、\n",
    "\n",
    "Macにjupyterコマンドをインストールするのが一般的でしょう。\n",
    "\n",
    "興味がある方は「Mac miniconda jupyter」などで検索して下さい。\n"
   ]
  }
 ],
 "metadata": {
  "kernelspec": {
   "display_name": "Python 3",
   "language": "python",
   "name": "python3"
  },
  "language_info": {
   "codemirror_mode": {
    "name": "ipython",
    "version": 3
   },
   "file_extension": ".py",
   "mimetype": "text/x-python",
   "name": "python",
   "nbconvert_exporter": "python",
   "pygments_lexer": "ipython3",
   "version": "3.6.1"
  }
 },
 "nbformat": 4,
 "nbformat_minor": 2
}
