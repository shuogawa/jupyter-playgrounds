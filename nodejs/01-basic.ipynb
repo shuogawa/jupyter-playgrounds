{
 "cells": [
  {
   "cell_type": "markdown",
   "metadata": {},
   "source": [
    "# Jupyter Notebook(NodeJSカーネル)による、ES６のおさらい"
   ]
  },
  {
   "cell_type": "markdown",
   "metadata": {},
   "source": [
    "# Let & Block Scope"
   ]
  },
  {
   "cell_type": "code",
   "execution_count": null,
   "metadata": {
    "collapsed": true
   },
   "outputs": [],
   "source": [
    "{\n",
    "    let age = 30;\n",
    "    if (true) {\n",
    "        let age = 27;\n",
    "        console.log(age)\n",
    "    }\n",
    "    console.log(age)\n",
    "}\n"
   ]
  },
  {
   "cell_type": "markdown",
   "metadata": {
    "collapsed": true
   },
   "source": [
    "# Constants with \"const\""
   ]
  },
  {
   "cell_type": "code",
   "execution_count": null,
   "metadata": {
    "collapsed": true
   },
   "outputs": [],
   "source": [
    "{\n",
    "    const age = 27;\n",
    "    console.log(age);\n",
    "    // 再代入不可\n",
    "    age = 30;\n",
    "}"
   ]
  },
  {
   "cell_type": "code",
   "execution_count": null,
   "metadata": {
    "collapsed": true
   },
   "outputs": [],
   "source": [
    "{\n",
    "    const object = {age: 30};\n",
    "    //　オブジェクトの変更は可能\n",
    "    object.age = 27;\n",
    "    console.log(object);\n",
    "    \n",
    "    //　配列の変更も可能\n",
    "    const array = [];\n",
    "    array.push(30);\n",
    "    console.log(array);\n",
    "}"
   ]
  },
  {
   "cell_type": "markdown",
   "metadata": {},
   "source": [
    " # Hoisting in ES6"
   ]
  },
  {
   "cell_type": "code",
   "execution_count": null,
   "metadata": {
    "collapsed": true
   },
   "outputs": [],
   "source": [
    "// これは動いたが\n",
    "{\n",
    "    age = 27;\n",
    "    console.log(age);\n",
    "    var age;\n",
    "}"
   ]
  },
  {
   "cell_type": "code",
   "execution_count": null,
   "metadata": {
    "collapsed": true
   },
   "outputs": [],
   "source": [
    "// これは動かない\n",
    "{\n",
    "    age = 27;\n",
    "    console.log(age);\n",
    "    let age;\n",
    "}"
   ]
  },
  {
   "cell_type": "markdown",
   "metadata": {},
   "source": [
    "# Arrow Functions"
   ]
  },
  {
   "cell_type": "code",
   "execution_count": null,
   "metadata": {
    "collapsed": true
   },
   "outputs": [],
   "source": [
    "{\n",
    "    const fn = () => {\n",
    "        console.log('hello');\n",
    "    }\n",
    "}"
   ]
  },
  {
   "cell_type": "markdown",
   "metadata": {},
   "source": [
    "# Functions and Default Parameters"
   ]
  },
  {
   "cell_type": "code",
   "execution_count": null,
   "metadata": {
    "collapsed": true
   },
   "outputs": [],
   "source": [
    "{\n",
    "    const hello = (firstName, lastName = 'Tanaka') => {\n",
    "        console.log(`${firstName} ${lastName}`)\n",
    "    }\n",
    "    hello('Taro', 'Yamda')\n",
    "    hello('Taro')\n",
    "}"
   ]
  },
  {
   "cell_type": "markdown",
   "metadata": {},
   "source": [
    "# Object Literal Extensions"
   ]
  },
  {
   "cell_type": "code",
   "execution_count": null,
   "metadata": {
    "collapsed": true
   },
   "outputs": [],
   "source": [
    "{\n",
    "    const name = 'Max';\n",
    "    const age = 27;\n",
    "    let person = {\n",
    "        name,\n",
    "        age\n",
    "    };\n",
    "    console.log(person);\n",
    "}"
   ]
  },
  {
   "cell_type": "markdown",
   "metadata": {},
   "source": [
    "# The Rest Operator"
   ]
  },
  {
   "cell_type": "code",
   "execution_count": null,
   "metadata": {},
   "outputs": [],
   "source": [
    "// 複数値を配列にまとめる\n",
    "{\n",
    "    const sum = (...numbers) => {\n",
    "        console.log(numbers);\n",
    "    }\n",
    "    sum(1, 2, 3, 4, 5);\n",
    "}"
   ]
  },
  {
   "cell_type": "markdown",
   "metadata": {},
   "source": [
    "# The Spread Operator"
   ]
  },
  {
   "cell_type": "code",
   "execution_count": null,
   "metadata": {},
   "outputs": [],
   "source": [
    "// 配列を複数値に分割する\n",
    "{\n",
    "    const numbers = [1, 2, 3, 4, 5];\n",
    "    console.log(Math.max(numbers));\n",
    "    console.log(Math.max(...numbers));\n",
    "}"
   ]
  },
  {
   "cell_type": "markdown",
   "metadata": {},
   "source": [
    "# The for-of Loop"
   ]
  },
  {
   "cell_type": "code",
   "execution_count": null,
   "metadata": {},
   "outputs": [],
   "source": [
    "{\n",
    "    const numbers = [1, 2, 3, 4, 5];\n",
    "    for (let number of numbers) {\n",
    "        console.log(number)\n",
    "    }    \n",
    "}\n"
   ]
  },
  {
   "cell_type": "markdown",
   "metadata": {},
   "source": [
    "# Template Literals"
   ]
  },
  {
   "cell_type": "code",
   "execution_count": null,
   "metadata": {},
   "outputs": [],
   "source": [
    "{\n",
    "    const name = 'Max';\n",
    "    const message = ` Hello ${name}`;\n",
    "    console.log(message);\n",
    "}"
   ]
  },
  {
   "cell_type": "markdown",
   "metadata": {},
   "source": [
    "# Destructing Array"
   ]
  },
  {
   "cell_type": "code",
   "execution_count": null,
   "metadata": {},
   "outputs": [],
   "source": [
    "{\n",
    "    const numbers = [1, 2, 3];\n",
    "    \n",
    "    const [a, b, c] = numbers;\n",
    "    console.log(a, b, c);\n",
    "    \n",
    "    const [d, ...e] = numbers;\n",
    "    console.log(d, e);\n",
    "}"
   ]
  },
  {
   "cell_type": "markdown",
   "metadata": {},
   "source": [
    "# Destructing Object"
   ]
  },
  {
   "cell_type": "code",
   "execution_count": null,
   "metadata": {},
   "outputs": [],
   "source": [
    "{\n",
    "    let obj = {\n",
    "       name: 'Max',\n",
    "        age: 27\n",
    "    };\n",
    "    let {name, age} = obj;\n",
    "    console.log(name, age);\n",
    "    \n",
    "    const obj1 = {\n",
    "        firstName: 'Shu',\n",
    "        middelName: 'Justin'\n",
    "    };\n",
    "    \n",
    "    const obj2 = {\n",
    "        lastName: 'Ogawa',\n",
    "        middelName: 'Michael'\n",
    "    };\n",
    "    \n",
    "    const obj3 = {\n",
    "        ...obj1,\n",
    "        ...obj2\n",
    "    };\n",
    "    \n",
    "    console.log(obj3);\n",
    "}"
   ]
  },
  {
   "cell_type": "markdown",
   "metadata": {},
   "source": [
    "# 最後に\n",
    "まだまだ続きがあります。興味がある方は、 https://www.udemy.com/es6-bootcamp-next-generation-javascript/　をどうぞ！　"
   ]
  }
 ],
 "metadata": {
  "kernelspec": {
   "display_name": "NodeJS",
   "language": "javascript",
   "name": "nodejs"
  },
  "language_info": {
   "codemirror_mode": "javascript",
   "file_extension": ".js",
   "mimetype": "text/javascript",
   "name": "nodejs",
   "pygments_lexer": "javascript",
   "version": "0.10"
  }
 },
 "nbformat": 4,
 "nbformat_minor": 2
}
