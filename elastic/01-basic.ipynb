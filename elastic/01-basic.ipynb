{
 "cells": [
  {
   "cell_type": "markdown",
   "metadata": {},
   "source": [
    "# Jupyterで学ぶElastic\n",
    "時間がなくて本当簡単な物しか作れませんでした。ごめんなさい。\n",
    "\n",
    "## ElasticSearch\n",
    "- Luceneをベースとする\n",
    "- 全文検索エンジン\n",
    "- ログ分析\n",
    "\n",
    "## 転置インデックス\n",
    "```\n",
    "本の索引\n",
    "\n",
    "DOC1 カツオはサザエの弟\n",
    "DOC2 サザエはワカメの姉\n",
    "DOC3 ワカメはカツオの妹\n",
    "\n",
    "の 1, 2, 3\n",
    "は 1, 2, 3\n",
    "カツオ 1, 3\n",
    "サザエ 1, 2\n",
    "ワカメ 2, 3\n",
    "弟 1\n",
    "姉 2\n",
    "妹 3\n",
    "```\n",
    "\n",
    "## 用語\n",
    "\n",
    "- V5\n",
    "  - Index = RDBのDB\n",
    "  - type = RDBのTABLE\n",
    "  - Document = RDBのROW\n",
    "- V6 typeが削除されて\n",
    "  - instance =  RDBのDB\n",
    "  - Index = RDBのTABLE\n",
    "  - Document = RDBのROW\n"
   ]
  },
  {
   "cell_type": "code",
   "execution_count": null,
   "metadata": {},
   "outputs": [],
   "source": [
    "curl http://elasticsearch:9200"
   ]
  },
  {
   "cell_type": "code",
   "execution_count": null,
   "metadata": {},
   "outputs": [],
   "source": [
    "curl http://elasticsearch:9200/_cat/indices"
   ]
  },
  {
   "cell_type": "code",
   "execution_count": null,
   "metadata": {},
   "outputs": [],
   "source": [
    "# insert\n",
    "json='\n",
    "{\n",
    "  \"genre\": [\"IMAX\", \"Sci-Fi\"],\n",
    "  \"title\": \"Interstellar\",\n",
    "  \"year\": 2014\n",
    "}'\n",
    "curl -s -XPUT -H \"Content-type: application/json\" http://elasticsearch:9200/movies/movie/109487?pretty -d \"$json\""
   ]
  },
  {
   "cell_type": "code",
   "execution_count": null,
   "metadata": {},
   "outputs": [],
   "source": [
    "# findById\n",
    "curl -s -XGET http://elasticsearch:9200/movies/movie/109487?pretty"
   ]
  },
  {
   "cell_type": "code",
   "execution_count": null,
   "metadata": {},
   "outputs": [],
   "source": [
    "# find\n",
    "curl -s -XGET http://elasticsearch:9200/movies/movie/_search?pretty"
   ]
  },
  {
   "cell_type": "code",
   "execution_count": null,
   "metadata": {},
   "outputs": [],
   "source": [
    "# partial update api\n",
    "json='\n",
    "{\n",
    "  \"doc\": {\n",
    "      \"title\": \"Interstellar2\"\n",
    "  }\n",
    "}'\n",
    "curl -s -XPOST -H \"Content-type: application/json\" http://elasticsearch:9200/movies/movie/109487/_update?pretty -d \"$json\""
   ]
  },
  {
   "cell_type": "code",
   "execution_count": null,
   "metadata": {},
   "outputs": [],
   "source": [
    "# findById\n",
    "curl -s -XGET http://elasticsearch:9200/movies/movie/109487?pretty"
   ]
  },
  {
   "cell_type": "code",
   "execution_count": null,
   "metadata": {},
   "outputs": [],
   "source": [
    "# deleteById\n",
    "curl -s -XDELETE http://elasticsearch:9200/movies/movie/109487?pretty"
   ]
  },
  {
   "cell_type": "code",
   "execution_count": null,
   "metadata": {},
   "outputs": [],
   "source": [
    "# findById\n",
    "curl -s -XGET http://elasticsearch:9200/movies/movie/109487?pretty"
   ]
  },
  {
   "cell_type": "markdown",
   "metadata": {},
   "source": [
    "# 終わりに\n",
    "まだまだあります。興味がある方は　https://www.udemy.com/elasticsearch-6-and-elastic-stack-in-depth-and-hands-on/　をどうぞ"
   ]
  }
 ],
 "metadata": {
  "kernelspec": {
   "display_name": "Bash",
   "language": "bash",
   "name": "bash"
  },
  "language_info": {
   "codemirror_mode": "shell",
   "file_extension": ".sh",
   "mimetype": "text/x-sh",
   "name": "bash"
  }
 },
 "nbformat": 4,
 "nbformat_minor": 2
}
